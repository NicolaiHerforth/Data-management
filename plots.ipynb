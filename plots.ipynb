{
 "cells": [
  {
   "cell_type": "code",
   "execution_count": 2,
   "metadata": {
    "collapsed": true
   },
   "outputs": [],
   "source": [
    "import plotly.plotly as py\n",
    "import plotly.graph_objs as go\n",
    "\n",
    "py.sign_in('nicohr', 'YqzFlUJHNd7YFLU55DWj')"
   ]
  },
  {
   "cell_type": "markdown",
   "metadata": {},
   "source": [
    "## Import RDD Data and assign queries"
   ]
  },
  {
   "cell_type": "code",
   "execution_count": 16,
   "metadata": {
    "collapsed": true
   },
   "outputs": [],
   "source": [
    "import plotly.plotly as py\n",
    "import plotly.graph_objs as go\n",
    "\n",
    "# Create random data with numpy\n",
    "import numpy as np\n",
    "rdd1 = [[5,1,1,1],[20,4,3,2],[52,7,4,3],[78,10,6,5]]\n",
    "rdd2 = [[5,1,1,1],[22,4,3,3],[56,7,6,6],[72,12,9,9]]\n",
    "rdd3 = [[5,1,1,1],[21,4,2,1],[54,7,4,3],[78,10,5,4]]\n",
    "rdd4 = [[5,1,1,1],[21,4,3,2],[51,7,5,5],[72,10,8,8]]\n",
    "\n",
    "threads = ['1 thread','8 threads','16 threads','32 threads']\n",
    "#rdd query 1\n",
    "r_q1_one = rdd1[0]\n",
    "r_q1_four = rdd1[1]\n",
    "r_q1_eight = rdd1[2]\n",
    "r_q1_twelve = rdd1[3]\n",
    "\n",
    "#rdd query 2\n",
    "r_q2_one = rdd2[0]\n",
    "r_q2_four = rdd2[1]\n",
    "r_q2_eight = rdd2[2]\n",
    "r_q2_twelve = rdd2[3]\n",
    "\n",
    "#rdd query 3\n",
    "r_q3_one = rdd3[0]\n",
    "r_q3_four = rdd3[1]\n",
    "r_q3_eight = rdd3[2]\n",
    "r_q3_twelve = rdd3[3]\n",
    "\n",
    "#rdd query 4\n",
    "r_q4_one = rdd4[0]\n",
    "r_q4_four = rdd4[1]\n",
    "r_q4_eight = rdd4[2]\n",
    "r_q4_twelve = rdd4[3]\n",
    "\n",
    "\n",
    "\n"
   ]
  },
  {
   "cell_type": "markdown",
   "metadata": {},
   "source": [
    "## Query 1"
   ]
  },
  {
   "cell_type": "code",
   "execution_count": 17,
   "metadata": {},
   "outputs": [
    {
     "data": {
      "text/html": [
       "<iframe id=\"igraph\" scrolling=\"no\" style=\"border:none;\" seamless=\"seamless\" src=\"https://plot.ly/~nicohr/2.embed\" height=\"525px\" width=\"100%\"></iframe>"
      ],
      "text/plain": [
       "<plotly.tools.PlotlyDisplay object>"
      ]
     },
     "execution_count": 17,
     "metadata": {},
     "output_type": "execute_result"
    }
   ],
   "source": [
    "one_file = go.Scatter(\n",
    "    x = threads,\n",
    "    y = r_q1_one,\n",
    "    mode = 'lines+markers',\n",
    "    name = '1 file'\n",
    ")\n",
    "\n",
    "four_file = go.Scatter(\n",
    "    x = threads,\n",
    "    y = r_q1_four,\n",
    "    mode = 'lines+markers',\n",
    "    name = '4 files'\n",
    ")\n",
    "\n",
    "eight_file = go.Scatter(\n",
    "    x = threads,\n",
    "    y = r_q1_eight,\n",
    "    mode = 'lines+markers',\n",
    "    name = '8 files'\n",
    ")\n",
    "\n",
    "twelve_file = go.Scatter(\n",
    "    x = threads,\n",
    "    y = r_q1_twelve,\n",
    "    mode = 'lines+markers',\n",
    "    name = '12 files'\n",
    ")\n",
    "\n",
    "data = [one_file, four_file, eight_file, twelve_file]\n",
    "# name graph\n",
    "layout = dict(title = 'Timings for RDD query 1',\n",
    "              xaxis = dict(title = 'Threads'),\n",
    "              yaxis = dict(title = 'Time in seconds'),\n",
    "              )\n",
    "fig = dict(data=data, layout=layout)\n",
    "py.iplot(fig, filename='line-mode')"
   ]
  },
  {
   "cell_type": "markdown",
   "metadata": {},
   "source": [
    "## Query 2"
   ]
  },
  {
   "cell_type": "code",
   "execution_count": 18,
   "metadata": {},
   "outputs": [
    {
     "data": {
      "text/html": [
       "<iframe id=\"igraph\" scrolling=\"no\" style=\"border:none;\" seamless=\"seamless\" src=\"https://plot.ly/~nicohr/2.embed\" height=\"525px\" width=\"100%\"></iframe>"
      ],
      "text/plain": [
       "<plotly.tools.PlotlyDisplay object>"
      ]
     },
     "execution_count": 18,
     "metadata": {},
     "output_type": "execute_result"
    }
   ],
   "source": [
    "one_file = go.Scatter(\n",
    "    x = threads,\n",
    "    y = r_q2_one,\n",
    "    mode = 'lines+markers',\n",
    "    name = '1 file'\n",
    ")\n",
    "\n",
    "four_file = go.Scatter(\n",
    "    x = threads,\n",
    "    y = r_q2_four,\n",
    "    mode = 'lines+markers',\n",
    "    name = '4 files'\n",
    ")\n",
    "\n",
    "eight_file = go.Scatter(\n",
    "    x = threads,\n",
    "    y = r_q2_eight,\n",
    "    mode = 'lines+markers',\n",
    "    name = '8 files'\n",
    ")\n",
    "\n",
    "twelve_file = go.Scatter(\n",
    "    x = threads,\n",
    "    y = r_q2_twelve,\n",
    "    mode = 'lines+markers',\n",
    "    name = '12 files'\n",
    ")\n",
    "\n",
    "data = [one_file, four_file, eight_file, twelve_file]\n",
    "# name graph\n",
    "layout = dict(title = 'Timings for RDD query 2',\n",
    "              xaxis = dict(title = 'Threads'),\n",
    "              yaxis = dict(title = 'Time in seconds'),\n",
    "              )\n",
    "fig = dict(data=data, layout=layout)\n",
    "py.iplot(fig, filename='line-mode')\n"
   ]
  },
  {
   "cell_type": "markdown",
   "metadata": {},
   "source": [
    "## Query 3"
   ]
  },
  {
   "cell_type": "code",
   "execution_count": 19,
   "metadata": {},
   "outputs": [
    {
     "data": {
      "text/html": [
       "<iframe id=\"igraph\" scrolling=\"no\" style=\"border:none;\" seamless=\"seamless\" src=\"https://plot.ly/~nicohr/2.embed\" height=\"525px\" width=\"100%\"></iframe>"
      ],
      "text/plain": [
       "<plotly.tools.PlotlyDisplay object>"
      ]
     },
     "execution_count": 19,
     "metadata": {},
     "output_type": "execute_result"
    }
   ],
   "source": [
    "one_file = go.Scatter(\n",
    "    x = threads,\n",
    "    y = r_q3_one,\n",
    "    mode = 'lines+markers',\n",
    "    name = '1 file'\n",
    ")\n",
    "\n",
    "four_file = go.Scatter(\n",
    "    x = threads,\n",
    "    y = r_q3_four,\n",
    "    mode = 'lines+markers',\n",
    "    name = '4 files'\n",
    ")\n",
    "\n",
    "eight_file = go.Scatter(\n",
    "    x = threads,\n",
    "    y = r_q3_eight,\n",
    "    mode = 'lines+markers',\n",
    "    name = '8 files'\n",
    ")\n",
    "\n",
    "twelve_file = go.Scatter(\n",
    "    x = threads,\n",
    "    y = r_q3_twelve,\n",
    "    mode = 'lines+markers',\n",
    "    name = '12 files'\n",
    ")\n",
    "\n",
    "data = [one_file, four_file, eight_file, twelve_file]\n",
    "# name graph\n",
    "layout = dict(title = 'Timings for RDD query 3',\n",
    "              xaxis = dict(title = 'Threads'),\n",
    "              yaxis = dict(title = 'Time in seconds'),\n",
    "              )\n",
    "fig = dict(data=data, layout=layout)\n",
    "py.iplot(fig, filename='line-mode')\n"
   ]
  },
  {
   "cell_type": "markdown",
   "metadata": {},
   "source": [
    "## Query 4"
   ]
  },
  {
   "cell_type": "code",
   "execution_count": 20,
   "metadata": {},
   "outputs": [
    {
     "data": {
      "text/html": [
       "<iframe id=\"igraph\" scrolling=\"no\" style=\"border:none;\" seamless=\"seamless\" src=\"https://plot.ly/~nicohr/2.embed\" height=\"525px\" width=\"100%\"></iframe>"
      ],
      "text/plain": [
       "<plotly.tools.PlotlyDisplay object>"
      ]
     },
     "execution_count": 20,
     "metadata": {},
     "output_type": "execute_result"
    }
   ],
   "source": [
    "one_file = go.Scatter(\n",
    "    x = threads,\n",
    "    y = r_q4_one,\n",
    "    mode = 'lines+markers',\n",
    "    name = '1 file'\n",
    ")\n",
    "\n",
    "four_file = go.Scatter(\n",
    "    x = threads,\n",
    "    y = r_q4_four,\n",
    "    mode = 'lines+markers',\n",
    "    name = '4 files'\n",
    ")\n",
    "\n",
    "eight_file = go.Scatter(\n",
    "    x = threads,\n",
    "    y = r_q4_eight,\n",
    "    mode = 'lines+markers',\n",
    "    name = '8 files'\n",
    ")\n",
    "\n",
    "twelve_file = go.Scatter(\n",
    "    x = threads,\n",
    "    y = r_q4_twelve,\n",
    "    mode = 'lines+markers',\n",
    "    name = '12 files'\n",
    ")\n",
    "\n",
    "data = [one_file, four_file, eight_file, twelve_file]\n",
    "# name graph\n",
    "layout = dict(title = 'Timings for RDD query 4',\n",
    "              xaxis = dict(title = 'Threads'),\n",
    "              yaxis = dict(title = 'Time in seconds'),\n",
    "              )\n",
    "fig = dict(data=data, layout=layout)\n",
    "py.iplot(fig, filename='line-mode')"
   ]
  },
  {
   "cell_type": "markdown",
   "metadata": {},
   "source": [
    "## Import SQL data and assign queries"
   ]
  },
  {
   "cell_type": "code",
   "execution_count": 21,
   "metadata": {
    "collapsed": true
   },
   "outputs": [],
   "source": [
    "import plotly.plotly as py\n",
    "import plotly.graph_objs as go\n",
    "\n",
    "# Create random data with numpy\n",
    "import numpy as np\n",
    "sql1 = [[3,.7,.8,.4],[11,2,1,1],[26,6,3,2],[42,8,5,4]]\n",
    "sql2 = [[3,.8,.8,.3],[11,2,1,1],[27,6,3,2],[43,9,5,4]]\n",
    "sql3 = [[3,.6,.4,.3],[11,2,1,1],[27,7,3,2],[43,9,5,3]]\n",
    "sql4 = [[2,.6,.5,.3],[10,2.1,1,.9],[24,6,3,2],[39,7,5,3]]\n",
    "\n",
    "threads = ['1 thread','8 threads','16 threads','32 threads']\n",
    "#rdd query 1\n",
    "s_q1_one = sql1[0]\n",
    "s_q1_four = sql1[1]\n",
    "s_q1_eight = sql1[2]\n",
    "s_q1_twelve = sql1[3]\n",
    "\n",
    "#rdd query 2\n",
    "s_q2_one = sql2[0]\n",
    "s_q2_four = sql2[1]\n",
    "s_q2_eight = sql2[2]\n",
    "s_q2_twelve = sql2[3]\n",
    "\n",
    "#rdd query 3\n",
    "s_q3_one = sql3[0]\n",
    "s_q3_four = sql3[1]\n",
    "s_q3_eight = sql3[2]\n",
    "s_q3_twelve = sql3[3]\n",
    "\n",
    "#rdd query 4\n",
    "s_q4_one = sql4[0]\n",
    "s_q4_four = sql4[1]\n",
    "s_q4_eight = sql4[2]\n",
    "s_q4_twelve = sql4[3]\n",
    "\n",
    "\n",
    "\n",
    "\n"
   ]
  },
  {
   "cell_type": "markdown",
   "metadata": {},
   "source": [
    "## SQL Query 1"
   ]
  },
  {
   "cell_type": "code",
   "execution_count": 22,
   "metadata": {},
   "outputs": [
    {
     "data": {
      "text/html": [
       "<iframe id=\"igraph\" scrolling=\"no\" style=\"border:none;\" seamless=\"seamless\" src=\"https://plot.ly/~nicohr/2.embed\" height=\"525px\" width=\"100%\"></iframe>"
      ],
      "text/plain": [
       "<plotly.tools.PlotlyDisplay object>"
      ]
     },
     "execution_count": 22,
     "metadata": {},
     "output_type": "execute_result"
    }
   ],
   "source": [
    "one_file = go.Scatter(\n",
    "    x = threads,\n",
    "    y = s_q1_one,\n",
    "    mode = 'lines+markers',\n",
    "    name = '1 file'\n",
    ")\n",
    "\n",
    "four_file = go.Scatter(\n",
    "    x = threads,\n",
    "    y = s_q1_four,\n",
    "    mode = 'lines+markers',\n",
    "    name = '4 files'\n",
    ")\n",
    "\n",
    "eight_file = go.Scatter(\n",
    "    x = threads,\n",
    "    y = s_q1_eight,\n",
    "    mode = 'lines+markers',\n",
    "    name = '8 files'\n",
    ")\n",
    "\n",
    "twelve_file = go.Scatter(\n",
    "    x = threads,\n",
    "    y = s_q1_twelve,\n",
    "    mode = 'lines+markers',\n",
    "    name = '12 files'\n",
    ")\n",
    "\n",
    "data = [one_file, four_file, eight_file, twelve_file]\n",
    "# name graph\n",
    "layout = dict(title = 'Timings for SQL query 1',\n",
    "              xaxis = dict(title = 'Threads'),\n",
    "              yaxis = dict(title = 'Time in seconds'),\n",
    "              )\n",
    "fig = dict(data=data, layout=layout)\n",
    "py.iplot(fig, filename='line-mode')"
   ]
  },
  {
   "cell_type": "markdown",
   "metadata": {},
   "source": [
    "## SQL Query 2"
   ]
  },
  {
   "cell_type": "code",
   "execution_count": 23,
   "metadata": {},
   "outputs": [
    {
     "data": {
      "text/html": [
       "<iframe id=\"igraph\" scrolling=\"no\" style=\"border:none;\" seamless=\"seamless\" src=\"https://plot.ly/~nicohr/2.embed\" height=\"525px\" width=\"100%\"></iframe>"
      ],
      "text/plain": [
       "<plotly.tools.PlotlyDisplay object>"
      ]
     },
     "execution_count": 23,
     "metadata": {},
     "output_type": "execute_result"
    }
   ],
   "source": [
    "one_file = go.Scatter(\n",
    "    x = threads,\n",
    "    y = s_q2_one,\n",
    "    mode = 'lines+markers',\n",
    "    name = '1 file'\n",
    ")\n",
    "\n",
    "four_file = go.Scatter(\n",
    "    x = threads,\n",
    "    y = s_q2_four,\n",
    "    mode = 'lines+markers',\n",
    "    name = '4 files'\n",
    ")\n",
    "\n",
    "eight_file = go.Scatter(\n",
    "    x = threads,\n",
    "    y = s_q2_eight,\n",
    "    mode = 'lines+markers',\n",
    "    name = '8 files'\n",
    ")\n",
    "\n",
    "twelve_file = go.Scatter(\n",
    "    x = threads,\n",
    "    y = s_q2_twelve,\n",
    "    mode = 'lines+markers',\n",
    "    name = '12 files'\n",
    ")\n",
    "\n",
    "data = [one_file, four_file, eight_file, twelve_file]\n",
    "# name graph\n",
    "layout = dict(title = 'Timings for SQL query 2',\n",
    "              xaxis = dict(title = 'Threads'),\n",
    "              yaxis = dict(title = 'Time in seconds'),\n",
    "              )\n",
    "fig = dict(data=data, layout=layout)\n",
    "py.iplot(fig, filename='line-mode')"
   ]
  },
  {
   "cell_type": "markdown",
   "metadata": {},
   "source": [
    "## SQL Query 3"
   ]
  },
  {
   "cell_type": "code",
   "execution_count": 24,
   "metadata": {},
   "outputs": [
    {
     "data": {
      "text/html": [
       "<iframe id=\"igraph\" scrolling=\"no\" style=\"border:none;\" seamless=\"seamless\" src=\"https://plot.ly/~nicohr/2.embed\" height=\"525px\" width=\"100%\"></iframe>"
      ],
      "text/plain": [
       "<plotly.tools.PlotlyDisplay object>"
      ]
     },
     "execution_count": 24,
     "metadata": {},
     "output_type": "execute_result"
    }
   ],
   "source": [
    "one_file = go.Scatter(\n",
    "    x = threads,\n",
    "    y = s_q3_one,\n",
    "    mode = 'lines+markers',\n",
    "    name = '1 file'\n",
    ")\n",
    "\n",
    "four_file = go.Scatter(\n",
    "    x = threads,\n",
    "    y = s_q3_four,\n",
    "    mode = 'lines+markers',\n",
    "    name = '4 files'\n",
    ")\n",
    "\n",
    "eight_file = go.Scatter(\n",
    "    x = threads,\n",
    "    y = s_q3_eight,\n",
    "    mode = 'lines+markers',\n",
    "    name = '8 files'\n",
    ")\n",
    "\n",
    "twelve_file = go.Scatter(\n",
    "    x = threads,\n",
    "    y = s_q3_twelve,\n",
    "    mode = 'lines+markers',\n",
    "    name = '12 files'\n",
    ")\n",
    "\n",
    "data = [one_file, four_file, eight_file, twelve_file]\n",
    "# name graph\n",
    "layout = dict(title = 'Timings for SQL query 3',\n",
    "              xaxis = dict(title = 'Threads'),\n",
    "              yaxis = dict(title = 'Time in seconds'),\n",
    "              )\n",
    "fig = dict(data=data, layout=layout)\n",
    "py.iplot(fig, filename='line-mode')"
   ]
  },
  {
   "cell_type": "markdown",
   "metadata": {},
   "source": [
    "## SQL Query 4"
   ]
  },
  {
   "cell_type": "code",
   "execution_count": 25,
   "metadata": {},
   "outputs": [
    {
     "data": {
      "text/html": [
       "<iframe id=\"igraph\" scrolling=\"no\" style=\"border:none;\" seamless=\"seamless\" src=\"https://plot.ly/~nicohr/2.embed\" height=\"525px\" width=\"100%\"></iframe>"
      ],
      "text/plain": [
       "<plotly.tools.PlotlyDisplay object>"
      ]
     },
     "execution_count": 25,
     "metadata": {},
     "output_type": "execute_result"
    }
   ],
   "source": [
    "one_file = go.Scatter(\n",
    "    x = threads,\n",
    "    y = s_q4_one,\n",
    "    mode = 'lines+markers',\n",
    "    name = '1 file'\n",
    ")\n",
    "\n",
    "four_file = go.Scatter(\n",
    "    x = threads,\n",
    "    y = s_q4_four,\n",
    "    mode = 'lines+markers',\n",
    "    name = '4 files'\n",
    ")\n",
    "\n",
    "eight_file = go.Scatter(\n",
    "    x = threads,\n",
    "    y = s_q4_eight,\n",
    "    mode = 'lines+markers',\n",
    "    name = '8 files'\n",
    ")\n",
    "\n",
    "twelve_file = go.Scatter(\n",
    "    x = threads,\n",
    "    y = s_q4_twelve,\n",
    "    mode = 'lines+markers',\n",
    "    name = '12 files'\n",
    ")\n",
    "\n",
    "data = [one_file, four_file, eight_file, twelve_file]\n",
    "# name graph\n",
    "layout = dict(title = 'Timings for SQL query 4',\n",
    "              xaxis = dict(title = 'Threads'),\n",
    "              yaxis = dict(title = 'Time in seconds'),\n",
    "              )\n",
    "fig = dict(data=data, layout=layout)\n",
    "py.iplot(fig, filename='line-mode')"
   ]
  },
  {
   "cell_type": "markdown",
   "metadata": {},
   "source": [
    "## Comparison Data"
   ]
  },
  {
   "cell_type": "code",
   "execution_count": 34,
   "metadata": {
    "collapsed": true
   },
   "outputs": [],
   "source": [
    "py_comp = [.2, .6, 1.6, 2.8]\n",
    "rdd_comp = [4, 40, 'NA', 'NA']\n",
    "sql_comp = [.2, .5, 2, 4]\n",
    "\n",
    "files = ['1 file', '4 files', '8 files', '12 files']"
   ]
  },
  {
   "cell_type": "code",
   "execution_count": 35,
   "metadata": {},
   "outputs": [
    {
     "data": {
      "text/html": [
       "<iframe id=\"igraph\" scrolling=\"no\" style=\"border:none;\" seamless=\"seamless\" src=\"https://plot.ly/~nicohr/2.embed\" height=\"525px\" width=\"100%\"></iframe>"
      ],
      "text/plain": [
       "<plotly.tools.PlotlyDisplay object>"
      ]
     },
     "execution_count": 35,
     "metadata": {},
     "output_type": "execute_result"
    }
   ],
   "source": [
    "sql_file = go.Scatter(\n",
    "    x = files,\n",
    "    y = sql_comp,\n",
    "    mode = 'lines+markers',\n",
    "    name = 'SQL performance'\n",
    ")\n",
    "\n",
    "\n",
    "\n",
    "rdd_file = go.Scatter(\n",
    "    x = files,\n",
    "    y = rdd_comp,\n",
    "    mode = 'lines+markers',\n",
    "    name = 'RDD performance'\n",
    ")\n",
    "\n",
    "py_file = go.Scatter(\n",
    "    x = files,\n",
    "    y = py_comp,\n",
    "    mode = 'lines+markers',\n",
    "    name = 'Python performance'\n",
    ")\n",
    "\n",
    "\n",
    "data = [sql_file, rdd_file, py_file]\n",
    "# name graph\n",
    "layout = dict(title = 'Cached timings for SQL vs RDD vs Python 1 thread',\n",
    "              xaxis = dict(title = 'Files'),\n",
    "              yaxis = dict(title = 'Time in seconds'),\n",
    "              )\n",
    "fig = dict(data=data, layout=layout)\n",
    "py.iplot(fig, filename='line-mode')"
   ]
  },
  {
   "cell_type": "code",
   "execution_count": 8,
   "metadata": {},
   "outputs": [
    {
     "data": {
      "text/html": [
       "<iframe id=\"igraph\" scrolling=\"no\" style=\"border:none;\" seamless=\"seamless\" src=\"https://plot.ly/~nicohr/2.embed\" height=\"525px\" width=\"100%\"></iframe>"
      ],
      "text/plain": [
       "<plotly.tools.PlotlyDisplay object>"
      ]
     },
     "execution_count": 8,
     "metadata": {},
     "output_type": "execute_result"
    }
   ],
   "source": [
    "py_no_cache = [7.4, 30, 67.8, 107.6]\n",
    "py_cache = [5.8, 25.2, 60.7, 98.5]\n",
    "sql_no_cache = [11, 43, 104, 167]\n",
    "sql_cache = [15.5, 62.5, 154, 242]\n",
    "sql_32 = [1.4, 3.9, 8, 14]\n",
    "rdd_no_cache = [20, 84, 213, 300]\n",
    "rdd_cache = [40, 260]\n",
    "\n",
    "files = ['1 file', '4 files', '8 files', '12 files']\n",
    "\n",
    "sql_file1 = go.Scatter(\n",
    "    x = files,\n",
    "    y = sql_no_cache,\n",
    "    mode = 'lines+markers',\n",
    "    name = 'SQL performance no cache'\n",
    ")\n",
    "\n",
    "sql_file2 = go.Scatter(\n",
    "    x = files,\n",
    "    y = sql_cache,\n",
    "    mode = 'lines+markers',\n",
    "    name = 'SQL performance cache'\n",
    ")\n",
    "\n",
    "sql_32 = go.Scatter(\n",
    "    x = files,\n",
    "    y = sql_32,\n",
    "    mode = 'lines+markers',\n",
    "    name = 'SQL performance 32 threads'\n",
    ")\n",
    "\n",
    "rdd_file1 = go.Scatter(\n",
    "    x = files,\n",
    "    y = rdd_no_cache,\n",
    "    mode = 'lines+markers',\n",
    "    name = 'RDD performance no cache'\n",
    ")\n",
    "\n",
    "rdd_file2 = go.Scatter(\n",
    "    x = files,\n",
    "    y = rdd_cache,\n",
    "    mode = 'lines+markers',\n",
    "    name = 'RDD performance cache'\n",
    ")\n",
    "\n",
    "py_file1 = go.Scatter(\n",
    "    x = files,\n",
    "    y = py_no_cache,\n",
    "    mode = 'lines+markers',\n",
    "    name = 'Python performance no cache'\n",
    ")\n",
    "\n",
    "py_file2 = go.Scatter(\n",
    "    x = files,\n",
    "    y = py_cache,\n",
    "    mode = 'lines+markers',\n",
    "    name = 'Python performance cache'\n",
    ")\n",
    "\n",
    "data = [sql_file1, sql_file2, sql_32, rdd_file1, rdd_file2, py_file1, py_file2]\n",
    "# name graph\n",
    "layout = dict(title = 'Summed timings - 1 thread, all queries - free for all',\n",
    "              xaxis = dict(title = 'Files'),\n",
    "              yaxis = dict(title = 'Summed time in seconds'),\n",
    "              )\n",
    "fig = dict(data=data, layout=layout)\n",
    "py.iplot(fig, filename='line-mode')"
   ]
  },
  {
   "cell_type": "code",
   "execution_count": null,
   "metadata": {
    "collapsed": true
   },
   "outputs": [],
   "source": []
  }
 ],
 "metadata": {
  "kernelspec": {
   "display_name": "Python 3",
   "language": "python",
   "name": "python3"
  },
  "language_info": {
   "codemirror_mode": {
    "name": "ipython",
    "version": 3
   },
   "file_extension": ".py",
   "mimetype": "text/x-python",
   "name": "python",
   "nbconvert_exporter": "python",
   "pygments_lexer": "ipython3",
   "version": "3.6.2"
  }
 },
 "nbformat": 4,
 "nbformat_minor": 2
}
